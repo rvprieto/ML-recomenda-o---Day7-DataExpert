{
  "nbformat": 4,
  "nbformat_minor": 0,
  "metadata": {
    "colab": {
      "name": "Day7.ipynb",
      "provenance": [],
      "toc_visible": true,
      "authorship_tag": "ABX9TyPct20tPmdA9STnQ+rYu+R7",
      "include_colab_link": true
    },
    "kernelspec": {
      "name": "python3",
      "display_name": "Python 3"
    },
    "language_info": {
      "name": "python"
    }
  },
  "cells": [
    {
      "cell_type": "markdown",
      "metadata": {
        "id": "view-in-github",
        "colab_type": "text"
      },
      "source": [
        "<a href=\"https://colab.research.google.com/github/rvprieto/ML-recomenda-o---Day7-DataExpert/blob/main/Day7.ipynb\" target=\"_parent\"><img src=\"https://colab.research.google.com/assets/colab-badge.svg\" alt=\"Open In Colab\"/></a>"
      ]
    },
    {
      "cell_type": "markdown",
      "metadata": {
        "id": "-3-jPvGiNXrf"
      },
      "source": [
        "#Bibliotecas"
      ]
    },
    {
      "cell_type": "code",
      "metadata": {
        "id": "DKye_mGaL7aW"
      },
      "source": [
        "import numpy as np\n",
        "import pandas as pd\n",
        "import matplotlib.pyplot as plt\n",
        "import seaborn as sns\n",
        "\n",
        "import warnings\n",
        "warnings.filterwarnings('ignore')\n"
      ],
      "execution_count": 1,
      "outputs": []
    },
    {
      "cell_type": "markdown",
      "metadata": {
        "id": "PuwZ0jyrNxUv"
      },
      "source": [
        "#Datasets"
      ]
    },
    {
      "cell_type": "code",
      "metadata": {
        "id": "dH_V1HYpN07h"
      },
      "source": [
        "order_itens = pd.read_csv('/content/DNC_order_items_dataset.csv', index_col=0)\n",
        "order_reviews = pd.read_csv('/content/DNC_order_reviews_dataset.csv', index_col=0)\n",
        "orders = pd.read_csv('/content/DNC_orders_dataset.csv', index_col=0)\n",
        "products = pd.read_csv('/content/DNC_products_dataset.csv',index_col=0)"
      ],
      "execution_count": 2,
      "outputs": []
    },
    {
      "cell_type": "markdown",
      "metadata": {
        "id": "5uoXhaPHQV5M"
      },
      "source": [
        "#Analise exploratória"
      ]
    },
    {
      "cell_type": "markdown",
      "metadata": {
        "id": "Ep2eE-9U2zou"
      },
      "source": [
        "##order_itens"
      ]
    },
    {
      "cell_type": "code",
      "metadata": {
        "colab": {
          "base_uri": "https://localhost:8080/",
          "height": 203
        },
        "id": "Zler7GmsP-jO",
        "outputId": "ab7483c8-3980-4e3d-c2fa-e84c4e02c4db"
      },
      "source": [
        "order_itens.sample(5)"
      ],
      "execution_count": 3,
      "outputs": [
        {
          "output_type": "execute_result",
          "data": {
            "text/html": [
              "<div>\n",
              "<style scoped>\n",
              "    .dataframe tbody tr th:only-of-type {\n",
              "        vertical-align: middle;\n",
              "    }\n",
              "\n",
              "    .dataframe tbody tr th {\n",
              "        vertical-align: top;\n",
              "    }\n",
              "\n",
              "    .dataframe thead th {\n",
              "        text-align: right;\n",
              "    }\n",
              "</style>\n",
              "<table border=\"1\" class=\"dataframe\">\n",
              "  <thead>\n",
              "    <tr style=\"text-align: right;\">\n",
              "      <th></th>\n",
              "      <th>order_id</th>\n",
              "      <th>order_item_id</th>\n",
              "      <th>product_id</th>\n",
              "      <th>price</th>\n",
              "    </tr>\n",
              "  </thead>\n",
              "  <tbody>\n",
              "    <tr>\n",
              "      <th>84870</th>\n",
              "      <td>c0d98bbbc820c00ab877fbb053b1e517</td>\n",
              "      <td>1</td>\n",
              "      <td>235e0d56841710b62daf088840a96ba8</td>\n",
              "      <td>110.00</td>\n",
              "    </tr>\n",
              "    <tr>\n",
              "      <th>39774</th>\n",
              "      <td>5a80f55b30d5104aec28b1bc6b59b796</td>\n",
              "      <td>1</td>\n",
              "      <td>7faa2f80dd4c483a89f204c073c5b447</td>\n",
              "      <td>105.00</td>\n",
              "    </tr>\n",
              "    <tr>\n",
              "      <th>71033</th>\n",
              "      <td>a2115aed0dfabe789753c37481ea79d2</td>\n",
              "      <td>1</td>\n",
              "      <td>d4ad9721bda56413600c43c11006cb78</td>\n",
              "      <td>59.00</td>\n",
              "    </tr>\n",
              "    <tr>\n",
              "      <th>17996</th>\n",
              "      <td>293d3c2a058c0395d19e7d1a4aa87f41</td>\n",
              "      <td>1</td>\n",
              "      <td>bbaef2eadf31fe3ea6702077398be06c</td>\n",
              "      <td>56.99</td>\n",
              "    </tr>\n",
              "    <tr>\n",
              "      <th>62869</th>\n",
              "      <td>8f83b7fcba464b677274cb8fcf22eef8</td>\n",
              "      <td>1</td>\n",
              "      <td>df64236f60ba2eb87cfd76fd7cc73198</td>\n",
              "      <td>195.00</td>\n",
              "    </tr>\n",
              "  </tbody>\n",
              "</table>\n",
              "</div>"
            ],
            "text/plain": [
              "                               order_id  ...   price\n",
              "84870  c0d98bbbc820c00ab877fbb053b1e517  ...  110.00\n",
              "39774  5a80f55b30d5104aec28b1bc6b59b796  ...  105.00\n",
              "71033  a2115aed0dfabe789753c37481ea79d2  ...   59.00\n",
              "17996  293d3c2a058c0395d19e7d1a4aa87f41  ...   56.99\n",
              "62869  8f83b7fcba464b677274cb8fcf22eef8  ...  195.00\n",
              "\n",
              "[5 rows x 4 columns]"
            ]
          },
          "metadata": {},
          "execution_count": 3
        }
      ]
    },
    {
      "cell_type": "code",
      "metadata": {
        "colab": {
          "base_uri": "https://localhost:8080/"
        },
        "id": "Z_e-dQ00Qe2d",
        "outputId": "d2203827-9831-401c-c88e-27268c39f380"
      },
      "source": [
        "order_itens.info()"
      ],
      "execution_count": 4,
      "outputs": [
        {
          "output_type": "stream",
          "name": "stdout",
          "text": [
            "<class 'pandas.core.frame.DataFrame'>\n",
            "Int64Index: 112650 entries, 0 to 112649\n",
            "Data columns (total 4 columns):\n",
            " #   Column         Non-Null Count   Dtype  \n",
            "---  ------         --------------   -----  \n",
            " 0   order_id       112650 non-null  object \n",
            " 1   order_item_id  112650 non-null  int64  \n",
            " 2   product_id     112650 non-null  object \n",
            " 3   price          112650 non-null  float64\n",
            "dtypes: float64(1), int64(1), object(2)\n",
            "memory usage: 4.3+ MB\n"
          ]
        }
      ]
    },
    {
      "cell_type": "code",
      "metadata": {
        "id": "HsdkXLjfuX6E"
      },
      "source": [
        "nunique_product =order_itens['product_id'].nunique()"
      ],
      "execution_count": 5,
      "outputs": []
    },
    {
      "cell_type": "code",
      "metadata": {
        "colab": {
          "base_uri": "https://localhost:8080/"
        },
        "id": "5aE4whkiwQWi",
        "outputId": "719e52b2-358b-4e72-d217-72c1a0bde178"
      },
      "source": [
        "order_itens.duplicated().sum()"
      ],
      "execution_count": 6,
      "outputs": [
        {
          "output_type": "execute_result",
          "data": {
            "text/plain": [
              "0"
            ]
          },
          "metadata": {},
          "execution_count": 6
        }
      ]
    },
    {
      "cell_type": "code",
      "metadata": {
        "colab": {
          "base_uri": "https://localhost:8080/"
        },
        "id": "A3FfbKaBD1-6",
        "outputId": "6a1af659-6e74-4126-fb35-daf71a8a7702"
      },
      "source": [
        "order_itens['order_id'].duplicated().sum()"
      ],
      "execution_count": 7,
      "outputs": [
        {
          "output_type": "execute_result",
          "data": {
            "text/plain": [
              "13984"
            ]
          },
          "metadata": {},
          "execution_count": 7
        }
      ]
    },
    {
      "cell_type": "markdown",
      "metadata": {
        "id": "kiFGsq8O23Tl"
      },
      "source": [
        "##order_reviews"
      ]
    },
    {
      "cell_type": "code",
      "metadata": {
        "colab": {
          "base_uri": "https://localhost:8080/",
          "height": 203
        },
        "id": "J9COBuRkQGR_",
        "outputId": "770caa80-6674-45fd-b26b-e4969f82b437"
      },
      "source": [
        "order_reviews.sample(5)"
      ],
      "execution_count": 8,
      "outputs": [
        {
          "output_type": "execute_result",
          "data": {
            "text/html": [
              "<div>\n",
              "<style scoped>\n",
              "    .dataframe tbody tr th:only-of-type {\n",
              "        vertical-align: middle;\n",
              "    }\n",
              "\n",
              "    .dataframe tbody tr th {\n",
              "        vertical-align: top;\n",
              "    }\n",
              "\n",
              "    .dataframe thead th {\n",
              "        text-align: right;\n",
              "    }\n",
              "</style>\n",
              "<table border=\"1\" class=\"dataframe\">\n",
              "  <thead>\n",
              "    <tr style=\"text-align: right;\">\n",
              "      <th></th>\n",
              "      <th>review_id</th>\n",
              "      <th>order_id</th>\n",
              "      <th>review_score</th>\n",
              "    </tr>\n",
              "  </thead>\n",
              "  <tbody>\n",
              "    <tr>\n",
              "      <th>22031</th>\n",
              "      <td>e2f51fe8af7a172398bdc834158f1891</td>\n",
              "      <td>67fc5f606ae3826fe2e204222407f87d</td>\n",
              "      <td>4</td>\n",
              "    </tr>\n",
              "    <tr>\n",
              "      <th>20015</th>\n",
              "      <td>5f5654a69bd184101f469579a75232b5</td>\n",
              "      <td>ec02fec9423ae39b2f91ff964bdfd87c</td>\n",
              "      <td>2</td>\n",
              "    </tr>\n",
              "    <tr>\n",
              "      <th>53266</th>\n",
              "      <td>6ee3c2b9df4339d749e91688ccc57dcc</td>\n",
              "      <td>1d748fa1652f04b064b6cf65739b04dc</td>\n",
              "      <td>1</td>\n",
              "    </tr>\n",
              "    <tr>\n",
              "      <th>21379</th>\n",
              "      <td>2958b2a3fcdd2c8eedd0062039516236</td>\n",
              "      <td>c2b4140e1e7ac4f534dfc6713cd6b93a</td>\n",
              "      <td>5</td>\n",
              "    </tr>\n",
              "    <tr>\n",
              "      <th>75296</th>\n",
              "      <td>c26eee46d7a3535d0d583838be2e0481</td>\n",
              "      <td>a476fb0537849039cb122034488f8ee4</td>\n",
              "      <td>5</td>\n",
              "    </tr>\n",
              "  </tbody>\n",
              "</table>\n",
              "</div>"
            ],
            "text/plain": [
              "                              review_id  ... review_score\n",
              "22031  e2f51fe8af7a172398bdc834158f1891  ...            4\n",
              "20015  5f5654a69bd184101f469579a75232b5  ...            2\n",
              "53266  6ee3c2b9df4339d749e91688ccc57dcc  ...            1\n",
              "21379  2958b2a3fcdd2c8eedd0062039516236  ...            5\n",
              "75296  c26eee46d7a3535d0d583838be2e0481  ...            5\n",
              "\n",
              "[5 rows x 3 columns]"
            ]
          },
          "metadata": {},
          "execution_count": 8
        }
      ]
    },
    {
      "cell_type": "code",
      "metadata": {
        "colab": {
          "base_uri": "https://localhost:8080/"
        },
        "id": "xauJxhCzRk68",
        "outputId": "cf136b9b-9f6f-4989-e52f-335ec8a5c44c"
      },
      "source": [
        "order_reviews.info() "
      ],
      "execution_count": 9,
      "outputs": [
        {
          "output_type": "stream",
          "name": "stdout",
          "text": [
            "<class 'pandas.core.frame.DataFrame'>\n",
            "Int64Index: 99224 entries, 0 to 99223\n",
            "Data columns (total 3 columns):\n",
            " #   Column        Non-Null Count  Dtype \n",
            "---  ------        --------------  ----- \n",
            " 0   review_id     99224 non-null  object\n",
            " 1   order_id      99224 non-null  object\n",
            " 2   review_score  99224 non-null  int64 \n",
            "dtypes: int64(1), object(2)\n",
            "memory usage: 3.0+ MB\n"
          ]
        }
      ]
    },
    {
      "cell_type": "code",
      "metadata": {
        "colab": {
          "base_uri": "https://localhost:8080/"
        },
        "id": "GibH5YSd1aja",
        "outputId": "d2b55743-0149-481f-d13f-51f1e3270fb4"
      },
      "source": [
        "order_reviews.duplicated().sum()"
      ],
      "execution_count": 10,
      "outputs": [
        {
          "output_type": "execute_result",
          "data": {
            "text/plain": [
              "0"
            ]
          },
          "metadata": {},
          "execution_count": 10
        }
      ]
    },
    {
      "cell_type": "code",
      "metadata": {
        "colab": {
          "base_uri": "https://localhost:8080/"
        },
        "id": "RjIxxMT03M_x",
        "outputId": "5c7fb14e-bcd7-4b87-eeae-ae485fef8d33"
      },
      "source": [
        "order_reviews['review_score'].value_counts()"
      ],
      "execution_count": 11,
      "outputs": [
        {
          "output_type": "execute_result",
          "data": {
            "text/plain": [
              "5    57328\n",
              "4    19142\n",
              "1    11424\n",
              "3     8179\n",
              "2     3151\n",
              "Name: review_score, dtype: int64"
            ]
          },
          "metadata": {},
          "execution_count": 11
        }
      ]
    },
    {
      "cell_type": "markdown",
      "metadata": {
        "id": "sBp1HjAH3BvB"
      },
      "source": [
        "##orders_dataset"
      ]
    },
    {
      "cell_type": "code",
      "metadata": {
        "colab": {
          "base_uri": "https://localhost:8080/",
          "height": 203
        },
        "id": "E1Q0JjnlQKd0",
        "outputId": "55fa47c1-77ca-4599-8abf-1f1ba71c5f02"
      },
      "source": [
        "orders.sample(5)"
      ],
      "execution_count": 12,
      "outputs": [
        {
          "output_type": "execute_result",
          "data": {
            "text/html": [
              "<div>\n",
              "<style scoped>\n",
              "    .dataframe tbody tr th:only-of-type {\n",
              "        vertical-align: middle;\n",
              "    }\n",
              "\n",
              "    .dataframe tbody tr th {\n",
              "        vertical-align: top;\n",
              "    }\n",
              "\n",
              "    .dataframe thead th {\n",
              "        text-align: right;\n",
              "    }\n",
              "</style>\n",
              "<table border=\"1\" class=\"dataframe\">\n",
              "  <thead>\n",
              "    <tr style=\"text-align: right;\">\n",
              "      <th></th>\n",
              "      <th>order_id</th>\n",
              "      <th>customer_id</th>\n",
              "      <th>order_status</th>\n",
              "    </tr>\n",
              "  </thead>\n",
              "  <tbody>\n",
              "    <tr>\n",
              "      <th>80395</th>\n",
              "      <td>2cd4d457a1de3adcdb9d8237cb975c6d</td>\n",
              "      <td>8e6d1663d54c1c7aac1cb0bae73df8b4</td>\n",
              "      <td>delivered</td>\n",
              "    </tr>\n",
              "    <tr>\n",
              "      <th>62242</th>\n",
              "      <td>a97fd57e9692389b794fd4c3a328f68f</td>\n",
              "      <td>aadd0bcb192e7beb0eba93b2adc144d3</td>\n",
              "      <td>delivered</td>\n",
              "    </tr>\n",
              "    <tr>\n",
              "      <th>56903</th>\n",
              "      <td>34b6e91cc3c7e9bff425f3be9f5b0b98</td>\n",
              "      <td>6163b8118780f6c45ed62592c11dceab</td>\n",
              "      <td>delivered</td>\n",
              "    </tr>\n",
              "    <tr>\n",
              "      <th>56186</th>\n",
              "      <td>3cbdfe7eddec3865455541546f081546</td>\n",
              "      <td>36c3e8a1f8e150fde4a148578d99a5e1</td>\n",
              "      <td>delivered</td>\n",
              "    </tr>\n",
              "    <tr>\n",
              "      <th>79178</th>\n",
              "      <td>6f0bbdaf91746e96253d10fe7e374f7d</td>\n",
              "      <td>3071ce9d57b701079af6747a0d89b13b</td>\n",
              "      <td>invoiced</td>\n",
              "    </tr>\n",
              "  </tbody>\n",
              "</table>\n",
              "</div>"
            ],
            "text/plain": [
              "                               order_id  ... order_status\n",
              "80395  2cd4d457a1de3adcdb9d8237cb975c6d  ...    delivered\n",
              "62242  a97fd57e9692389b794fd4c3a328f68f  ...    delivered\n",
              "56903  34b6e91cc3c7e9bff425f3be9f5b0b98  ...    delivered\n",
              "56186  3cbdfe7eddec3865455541546f081546  ...    delivered\n",
              "79178  6f0bbdaf91746e96253d10fe7e374f7d  ...     invoiced\n",
              "\n",
              "[5 rows x 3 columns]"
            ]
          },
          "metadata": {},
          "execution_count": 12
        }
      ]
    },
    {
      "cell_type": "code",
      "metadata": {
        "colab": {
          "base_uri": "https://localhost:8080/"
        },
        "id": "2Kof4O5v173O",
        "outputId": "db636105-8ef6-429d-af21-983c444e55f8"
      },
      "source": [
        "orders.info()"
      ],
      "execution_count": 13,
      "outputs": [
        {
          "output_type": "stream",
          "name": "stdout",
          "text": [
            "<class 'pandas.core.frame.DataFrame'>\n",
            "Int64Index: 99441 entries, 0 to 99440\n",
            "Data columns (total 3 columns):\n",
            " #   Column        Non-Null Count  Dtype \n",
            "---  ------        --------------  ----- \n",
            " 0   order_id      99441 non-null  object\n",
            " 1   customer_id   99441 non-null  object\n",
            " 2   order_status  99441 non-null  object\n",
            "dtypes: object(3)\n",
            "memory usage: 3.0+ MB\n"
          ]
        }
      ]
    },
    {
      "cell_type": "code",
      "metadata": {
        "colab": {
          "base_uri": "https://localhost:8080/"
        },
        "id": "3iB-gQ_UCDJL",
        "outputId": "578364f8-6f96-4c80-fcd8-e62ae9911498"
      },
      "source": [
        "orders['customer_id'].nunique()"
      ],
      "execution_count": 14,
      "outputs": [
        {
          "output_type": "execute_result",
          "data": {
            "text/plain": [
              "99441"
            ]
          },
          "metadata": {},
          "execution_count": 14
        }
      ]
    },
    {
      "cell_type": "code",
      "metadata": {
        "colab": {
          "base_uri": "https://localhost:8080/"
        },
        "id": "JD2lAFDGrWhK",
        "outputId": "50b2e2ea-93ac-4636-8495-fe05ff656794"
      },
      "source": [
        "(orders['order_status'].value_counts(dropna=False)/orders.shape[0])*100"
      ],
      "execution_count": 15,
      "outputs": [
        {
          "output_type": "execute_result",
          "data": {
            "text/plain": [
              "delivered      97.020344\n",
              "shipped         1.113223\n",
              "canceled        0.628513\n",
              "unavailable     0.612423\n",
              "invoiced        0.315765\n",
              "processing      0.302692\n",
              "created         0.005028\n",
              "approved        0.002011\n",
              "Name: order_status, dtype: float64"
            ]
          },
          "metadata": {},
          "execution_count": 15
        }
      ]
    },
    {
      "cell_type": "code",
      "metadata": {
        "colab": {
          "base_uri": "https://localhost:8080/"
        },
        "id": "_C-UXy1K17Jq",
        "outputId": "bc1d1dcb-9fe0-43dd-888f-81e07003738f"
      },
      "source": [
        "orders.duplicated().sum()"
      ],
      "execution_count": 16,
      "outputs": [
        {
          "output_type": "execute_result",
          "data": {
            "text/plain": [
              "0"
            ]
          },
          "metadata": {},
          "execution_count": 16
        }
      ]
    },
    {
      "cell_type": "markdown",
      "metadata": {
        "id": "vW4FLk4r4RSi"
      },
      "source": [
        "##products"
      ]
    },
    {
      "cell_type": "code",
      "metadata": {
        "colab": {
          "base_uri": "https://localhost:8080/",
          "height": 223
        },
        "id": "9gTU7dCkQOkk",
        "outputId": "f5ef9d7c-ee3f-4946-d9cd-0d8948b10507"
      },
      "source": [
        "products.sample(5)"
      ],
      "execution_count": 17,
      "outputs": [
        {
          "output_type": "execute_result",
          "data": {
            "text/html": [
              "<div>\n",
              "<style scoped>\n",
              "    .dataframe tbody tr th:only-of-type {\n",
              "        vertical-align: middle;\n",
              "    }\n",
              "\n",
              "    .dataframe tbody tr th {\n",
              "        vertical-align: top;\n",
              "    }\n",
              "\n",
              "    .dataframe thead th {\n",
              "        text-align: right;\n",
              "    }\n",
              "</style>\n",
              "<table border=\"1\" class=\"dataframe\">\n",
              "  <thead>\n",
              "    <tr style=\"text-align: right;\">\n",
              "      <th></th>\n",
              "      <th>product_id</th>\n",
              "      <th>product_category_name</th>\n",
              "      <th>product_name_lenght</th>\n",
              "      <th>product_description_lenght</th>\n",
              "      <th>product_weight_g</th>\n",
              "      <th>product_length_cm</th>\n",
              "      <th>product_height_cm</th>\n",
              "      <th>product_width_cm</th>\n",
              "    </tr>\n",
              "  </thead>\n",
              "  <tbody>\n",
              "    <tr>\n",
              "      <th>639</th>\n",
              "      <td>37d2e3656244fd840ebd0460360455cd</td>\n",
              "      <td>papelaria</td>\n",
              "      <td>36.0</td>\n",
              "      <td>215.0</td>\n",
              "      <td>700.0</td>\n",
              "      <td>45.0</td>\n",
              "      <td>10.0</td>\n",
              "      <td>31.0</td>\n",
              "    </tr>\n",
              "    <tr>\n",
              "      <th>23934</th>\n",
              "      <td>5aad359a63cbb4fc35ead44346a3eeb4</td>\n",
              "      <td>moveis_decoracao</td>\n",
              "      <td>24.0</td>\n",
              "      <td>457.0</td>\n",
              "      <td>100.0</td>\n",
              "      <td>80.0</td>\n",
              "      <td>10.0</td>\n",
              "      <td>60.0</td>\n",
              "    </tr>\n",
              "    <tr>\n",
              "      <th>16790</th>\n",
              "      <td>e852196fab4b6dfb1fdafdc693b7dad5</td>\n",
              "      <td>fashion_bolsas_e_acessorios</td>\n",
              "      <td>59.0</td>\n",
              "      <td>650.0</td>\n",
              "      <td>400.0</td>\n",
              "      <td>43.0</td>\n",
              "      <td>16.0</td>\n",
              "      <td>27.0</td>\n",
              "    </tr>\n",
              "    <tr>\n",
              "      <th>7046</th>\n",
              "      <td>eaa3fffe22b0b5efe02db64ab9d3bf84</td>\n",
              "      <td>moveis_colchao_e_estofado</td>\n",
              "      <td>30.0</td>\n",
              "      <td>2073.0</td>\n",
              "      <td>1850.0</td>\n",
              "      <td>41.0</td>\n",
              "      <td>21.0</td>\n",
              "      <td>21.0</td>\n",
              "    </tr>\n",
              "    <tr>\n",
              "      <th>21743</th>\n",
              "      <td>7194ad9c6144dbbc1f3d4c389222035a</td>\n",
              "      <td>beleza_saude</td>\n",
              "      <td>40.0</td>\n",
              "      <td>2371.0</td>\n",
              "      <td>2150.0</td>\n",
              "      <td>35.0</td>\n",
              "      <td>11.0</td>\n",
              "      <td>23.0</td>\n",
              "    </tr>\n",
              "  </tbody>\n",
              "</table>\n",
              "</div>"
            ],
            "text/plain": [
              "                             product_id  ... product_width_cm\n",
              "639    37d2e3656244fd840ebd0460360455cd  ...             31.0\n",
              "23934  5aad359a63cbb4fc35ead44346a3eeb4  ...             60.0\n",
              "16790  e852196fab4b6dfb1fdafdc693b7dad5  ...             27.0\n",
              "7046   eaa3fffe22b0b5efe02db64ab9d3bf84  ...             21.0\n",
              "21743  7194ad9c6144dbbc1f3d4c389222035a  ...             23.0\n",
              "\n",
              "[5 rows x 8 columns]"
            ]
          },
          "metadata": {},
          "execution_count": 17
        }
      ]
    },
    {
      "cell_type": "code",
      "metadata": {
        "colab": {
          "base_uri": "https://localhost:8080/"
        },
        "id": "TQkI888Y2ONd",
        "outputId": "4b92ef92-302f-4f8a-d99f-19b5021877c4"
      },
      "source": [
        "products.info()"
      ],
      "execution_count": 18,
      "outputs": [
        {
          "output_type": "stream",
          "name": "stdout",
          "text": [
            "<class 'pandas.core.frame.DataFrame'>\n",
            "Int64Index: 32951 entries, 0 to 32950\n",
            "Data columns (total 8 columns):\n",
            " #   Column                      Non-Null Count  Dtype  \n",
            "---  ------                      --------------  -----  \n",
            " 0   product_id                  32951 non-null  object \n",
            " 1   product_category_name       32341 non-null  object \n",
            " 2   product_name_lenght         32341 non-null  float64\n",
            " 3   product_description_lenght  32341 non-null  float64\n",
            " 4   product_weight_g            32949 non-null  float64\n",
            " 5   product_length_cm           32949 non-null  float64\n",
            " 6   product_height_cm           32949 non-null  float64\n",
            " 7   product_width_cm            32949 non-null  float64\n",
            "dtypes: float64(6), object(2)\n",
            "memory usage: 2.3+ MB\n"
          ]
        }
      ]
    },
    {
      "cell_type": "code",
      "metadata": {
        "colab": {
          "base_uri": "https://localhost:8080/"
        },
        "id": "uFmQ0HeP4YKk",
        "outputId": "e23e2a07-d641-456c-99db-cffdc0b8548d"
      },
      "source": [
        "products.isnull().sum()"
      ],
      "execution_count": 19,
      "outputs": [
        {
          "output_type": "execute_result",
          "data": {
            "text/plain": [
              "product_id                      0\n",
              "product_category_name         610\n",
              "product_name_lenght           610\n",
              "product_description_lenght    610\n",
              "product_weight_g                2\n",
              "product_length_cm               2\n",
              "product_height_cm               2\n",
              "product_width_cm                2\n",
              "dtype: int64"
            ]
          },
          "metadata": {},
          "execution_count": 19
        }
      ]
    },
    {
      "cell_type": "code",
      "metadata": {
        "colab": {
          "base_uri": "https://localhost:8080/"
        },
        "id": "uY5hGxGU4ptl",
        "outputId": "fc5648c0-2620-4ac8-d8d9-5fbcc7e31176"
      },
      "source": [
        "products['product_category_name'].value_counts(dropna=False)"
      ],
      "execution_count": 20,
      "outputs": [
        {
          "output_type": "execute_result",
          "data": {
            "text/plain": [
              "cama_mesa_banho                  3029\n",
              "esporte_lazer                    2867\n",
              "moveis_decoracao                 2657\n",
              "beleza_saude                     2444\n",
              "utilidades_domesticas            2335\n",
              "                                 ... \n",
              "casa_conforto_2                     5\n",
              "fashion_roupa_infanto_juvenil       5\n",
              "pc_gamer                            3\n",
              "seguros_e_servicos                  2\n",
              "cds_dvds_musicais                   1\n",
              "Name: product_category_name, Length: 74, dtype: int64"
            ]
          },
          "metadata": {},
          "execution_count": 20
        }
      ]
    },
    {
      "cell_type": "code",
      "metadata": {
        "colab": {
          "base_uri": "https://localhost:8080/"
        },
        "id": "_lJjo-1F4ioM",
        "outputId": "2bcdbced-78bd-4099-cebf-533d385b4eb8"
      },
      "source": [
        "products.duplicated().sum()"
      ],
      "execution_count": 21,
      "outputs": [
        {
          "output_type": "execute_result",
          "data": {
            "text/plain": [
              "0"
            ]
          },
          "metadata": {},
          "execution_count": 21
        }
      ]
    },
    {
      "cell_type": "markdown",
      "metadata": {
        "id": "ClsDKn3l5bbG"
      },
      "source": [
        "#Estruturação de dados"
      ]
    },
    {
      "cell_type": "code",
      "metadata": {
        "id": "isM5_0_u5fs7"
      },
      "source": [
        "df_rd = orders.merge(order_itens, how='left', on='order_id')"
      ],
      "execution_count": 22,
      "outputs": []
    },
    {
      "cell_type": "code",
      "metadata": {
        "id": "m8WC7QLI61TO"
      },
      "source": [
        "df_rd = df_rd.merge(order_reviews, how='left', on='order_id')"
      ],
      "execution_count": 23,
      "outputs": []
    },
    {
      "cell_type": "code",
      "metadata": {
        "id": "LsvKs3ud8JDr"
      },
      "source": [
        "df_rd = df_rd.merge(products, how='left', on='product_id')"
      ],
      "execution_count": 24,
      "outputs": []
    },
    {
      "cell_type": "code",
      "metadata": {
        "colab": {
          "base_uri": "https://localhost:8080/"
        },
        "id": "8m1nU0YT9GFq",
        "outputId": "fde5c1d6-d988-41ab-d6e0-161d40ce65f5"
      },
      "source": [
        "df_rd.info()"
      ],
      "execution_count": 25,
      "outputs": [
        {
          "output_type": "stream",
          "name": "stdout",
          "text": [
            "<class 'pandas.core.frame.DataFrame'>\n",
            "Int64Index: 114092 entries, 0 to 114091\n",
            "Data columns (total 15 columns):\n",
            " #   Column                      Non-Null Count   Dtype  \n",
            "---  ------                      --------------   -----  \n",
            " 0   order_id                    114092 non-null  object \n",
            " 1   customer_id                 114092 non-null  object \n",
            " 2   order_status                114092 non-null  object \n",
            " 3   order_item_id               113314 non-null  float64\n",
            " 4   product_id                  113314 non-null  object \n",
            " 5   price                       113314 non-null  float64\n",
            " 6   review_id                   113131 non-null  object \n",
            " 7   review_score                113131 non-null  float64\n",
            " 8   product_category_name       111702 non-null  object \n",
            " 9   product_name_lenght         111702 non-null  float64\n",
            " 10  product_description_lenght  111702 non-null  float64\n",
            " 11  product_weight_g            113296 non-null  float64\n",
            " 12  product_length_cm           113296 non-null  float64\n",
            " 13  product_height_cm           113296 non-null  float64\n",
            " 14  product_width_cm            113296 non-null  float64\n",
            "dtypes: float64(9), object(6)\n",
            "memory usage: 13.9+ MB\n"
          ]
        }
      ]
    },
    {
      "cell_type": "markdown",
      "metadata": {
        "id": "qdcKykoKGhKl"
      },
      "source": [
        "#Tratamentos"
      ]
    },
    {
      "cell_type": "code",
      "metadata": {
        "colab": {
          "base_uri": "https://localhost:8080/"
        },
        "id": "-FLTHLqTBJ5e",
        "outputId": "63de124f-2153-47ad-ca92-0a9fbcdfc1e6"
      },
      "source": [
        "df_rd.isnull().sum()"
      ],
      "execution_count": 26,
      "outputs": [
        {
          "output_type": "execute_result",
          "data": {
            "text/plain": [
              "order_id                         0\n",
              "customer_id                      0\n",
              "order_status                     0\n",
              "order_item_id                  778\n",
              "product_id                     778\n",
              "price                          778\n",
              "review_id                      961\n",
              "review_score                   961\n",
              "product_category_name         2390\n",
              "product_name_lenght           2390\n",
              "product_description_lenght    2390\n",
              "product_weight_g               796\n",
              "product_length_cm              796\n",
              "product_height_cm              796\n",
              "product_width_cm               796\n",
              "dtype: int64"
            ]
          },
          "metadata": {},
          "execution_count": 26
        }
      ]
    },
    {
      "cell_type": "code",
      "metadata": {
        "id": "azaHj_VQERDk"
      },
      "source": [
        "df_rd=df_rd.dropna(axis=0)"
      ],
      "execution_count": 27,
      "outputs": []
    },
    {
      "cell_type": "code",
      "metadata": {
        "colab": {
          "base_uri": "https://localhost:8080/"
        },
        "id": "OQUp4ArMFKNb",
        "outputId": "64f2fb41-174c-4796-8da8-73b61ae14855"
      },
      "source": [
        "df_rd.info()"
      ],
      "execution_count": 28,
      "outputs": [
        {
          "output_type": "stream",
          "name": "stdout",
          "text": [
            "<class 'pandas.core.frame.DataFrame'>\n",
            "Int64Index: 110773 entries, 0 to 114091\n",
            "Data columns (total 15 columns):\n",
            " #   Column                      Non-Null Count   Dtype  \n",
            "---  ------                      --------------   -----  \n",
            " 0   order_id                    110773 non-null  object \n",
            " 1   customer_id                 110773 non-null  object \n",
            " 2   order_status                110773 non-null  object \n",
            " 3   order_item_id               110773 non-null  float64\n",
            " 4   product_id                  110773 non-null  object \n",
            " 5   price                       110773 non-null  float64\n",
            " 6   review_id                   110773 non-null  object \n",
            " 7   review_score                110773 non-null  float64\n",
            " 8   product_category_name       110773 non-null  object \n",
            " 9   product_name_lenght         110773 non-null  float64\n",
            " 10  product_description_lenght  110773 non-null  float64\n",
            " 11  product_weight_g            110773 non-null  float64\n",
            " 12  product_length_cm           110773 non-null  float64\n",
            " 13  product_height_cm           110773 non-null  float64\n",
            " 14  product_width_cm            110773 non-null  float64\n",
            "dtypes: float64(9), object(6)\n",
            "memory usage: 13.5+ MB\n"
          ]
        }
      ]
    },
    {
      "cell_type": "code",
      "metadata": {
        "colab": {
          "base_uri": "https://localhost:8080/",
          "height": 713
        },
        "id": "7kIHOlof-LCn",
        "outputId": "f7a64da0-bf45-48cf-943d-073dabacbc94"
      },
      "source": [
        "plt.figure(figsize= (20,10))\n",
        "sns.heatmap(data=df_rd.corr(), annot=True)"
      ],
      "execution_count": 29,
      "outputs": [
        {
          "output_type": "execute_result",
          "data": {
            "text/plain": [
              "<matplotlib.axes._subplots.AxesSubplot at 0x7fc135618510>"
            ]
          },
          "metadata": {},
          "execution_count": 29
        },
        {
          "output_type": "display_data",
          "data": {
            "image/png": "[encoded data removed]",
            "text/plain": [
              "<Figure size 1440x720 with 2 Axes>"
            ]
          },
          "metadata": {
            "needs_background": "light"
          }
        }
      ]
    },
    {
      "cell_type": "code",
      "metadata": {
        "colab": {
          "base_uri": "https://localhost:8080/",
          "height": 357
        },
        "id": "RqRA_kOYAxmn",
        "outputId": "0ce1a2e7-e08d-437c-cfa0-4d2927dcd22b"
      },
      "source": [
        "product_count=df_rd.groupby(by='product_id',as_index=False).agg({'order_id':pd.Series.nunique}).rename(columns={'order_id':'order_count'})\n",
        "shop_count=product_count.set_index('product_id')\n",
        "\n",
        "top10_products=shop_count.sort_values('order_count',ascending=False).head(10)\n",
        "top10_products=top10_products.reset_index()\n",
        "\n",
        "top10_products"
      ],
      "execution_count": 30,
      "outputs": [
        {
          "output_type": "execute_result",
          "data": {
            "text/html": [
              "<div>\n",
              "<style scoped>\n",
              "    .dataframe tbody tr th:only-of-type {\n",
              "        vertical-align: middle;\n",
              "    }\n",
              "\n",
              "    .dataframe tbody tr th {\n",
              "        vertical-align: top;\n",
              "    }\n",
              "\n",
              "    .dataframe thead th {\n",
              "        text-align: right;\n",
              "    }\n",
              "</style>\n",
              "<table border=\"1\" class=\"dataframe\">\n",
              "  <thead>\n",
              "    <tr style=\"text-align: right;\">\n",
              "      <th></th>\n",
              "      <th>product_id</th>\n",
              "      <th>order_count</th>\n",
              "    </tr>\n",
              "  </thead>\n",
              "  <tbody>\n",
              "    <tr>\n",
              "      <th>0</th>\n",
              "      <td>99a4788cb24856965c36a24e339b6058</td>\n",
              "      <td>458</td>\n",
              "    </tr>\n",
              "    <tr>\n",
              "      <th>1</th>\n",
              "      <td>aca2eb7d00ea1a7b8ebd4e68314663af</td>\n",
              "      <td>429</td>\n",
              "    </tr>\n",
              "    <tr>\n",
              "      <th>2</th>\n",
              "      <td>422879e10f46682990de24d770e7f83d</td>\n",
              "      <td>351</td>\n",
              "    </tr>\n",
              "    <tr>\n",
              "      <th>3</th>\n",
              "      <td>d1c427060a0f73f6b889a5c7c61f2ac4</td>\n",
              "      <td>320</td>\n",
              "    </tr>\n",
              "    <tr>\n",
              "      <th>4</th>\n",
              "      <td>389d119b48cf3043d311335e499d9c6b</td>\n",
              "      <td>310</td>\n",
              "    </tr>\n",
              "    <tr>\n",
              "      <th>5</th>\n",
              "      <td>53b36df67ebb7c41585e8d54d6772e08</td>\n",
              "      <td>303</td>\n",
              "    </tr>\n",
              "    <tr>\n",
              "      <th>6</th>\n",
              "      <td>368c6c730842d78016ad823897a372db</td>\n",
              "      <td>289</td>\n",
              "    </tr>\n",
              "    <tr>\n",
              "      <th>7</th>\n",
              "      <td>53759a2ecddad2bb87a079a1f1519f73</td>\n",
              "      <td>285</td>\n",
              "    </tr>\n",
              "    <tr>\n",
              "      <th>8</th>\n",
              "      <td>154e7e31ebfa092203795c972e5804a6</td>\n",
              "      <td>268</td>\n",
              "    </tr>\n",
              "    <tr>\n",
              "      <th>9</th>\n",
              "      <td>2b4609f8948be18874494203496bc318</td>\n",
              "      <td>259</td>\n",
              "    </tr>\n",
              "  </tbody>\n",
              "</table>\n",
              "</div>"
            ],
            "text/plain": [
              "                         product_id  order_count\n",
              "0  99a4788cb24856965c36a24e339b6058          458\n",
              "1  aca2eb7d00ea1a7b8ebd4e68314663af          429\n",
              "2  422879e10f46682990de24d770e7f83d          351\n",
              "3  d1c427060a0f73f6b889a5c7c61f2ac4          320\n",
              "4  389d119b48cf3043d311335e499d9c6b          310\n",
              "5  53b36df67ebb7c41585e8d54d6772e08          303\n",
              "6  368c6c730842d78016ad823897a372db          289\n",
              "7  53759a2ecddad2bb87a079a1f1519f73          285\n",
              "8  154e7e31ebfa092203795c972e5804a6          268\n",
              "9  2b4609f8948be18874494203496bc318          259"
            ]
          },
          "metadata": {},
          "execution_count": 30
        }
      ]
    },
    {
      "cell_type": "code",
      "metadata": {
        "colab": {
          "base_uri": "https://localhost:8080/",
          "height": 357
        },
        "id": "SNI0IJkWBAJh",
        "outputId": "10e994be-0520-46d6-a7ea-cfad6ff621c1"
      },
      "source": [
        "category_count=df_rd.groupby(by='product_category_name',as_index=False).agg({'order_id':pd.Series.nunique}).rename(columns={'order_id':'order_count'})\n",
        "shop_count=category_count.set_index('product_category_name')\n",
        "\n",
        "top10_category=shop_count.sort_values('order_count',ascending=False).head(10)\n",
        "top10_category=top10_category.reset_index()\n",
        "\n",
        "\n",
        "top10_category"
      ],
      "execution_count": 31,
      "outputs": [
        {
          "output_type": "execute_result",
          "data": {
            "text/html": [
              "<div>\n",
              "<style scoped>\n",
              "    .dataframe tbody tr th:only-of-type {\n",
              "        vertical-align: middle;\n",
              "    }\n",
              "\n",
              "    .dataframe tbody tr th {\n",
              "        vertical-align: top;\n",
              "    }\n",
              "\n",
              "    .dataframe thead th {\n",
              "        text-align: right;\n",
              "    }\n",
              "</style>\n",
              "<table border=\"1\" class=\"dataframe\">\n",
              "  <thead>\n",
              "    <tr style=\"text-align: right;\">\n",
              "      <th></th>\n",
              "      <th>product_category_name</th>\n",
              "      <th>order_count</th>\n",
              "    </tr>\n",
              "  </thead>\n",
              "  <tbody>\n",
              "    <tr>\n",
              "      <th>0</th>\n",
              "      <td>cama_mesa_banho</td>\n",
              "      <td>9313</td>\n",
              "    </tr>\n",
              "    <tr>\n",
              "      <th>1</th>\n",
              "      <td>beleza_saude</td>\n",
              "      <td>8771</td>\n",
              "    </tr>\n",
              "    <tr>\n",
              "      <th>2</th>\n",
              "      <td>esporte_lazer</td>\n",
              "      <td>7669</td>\n",
              "    </tr>\n",
              "    <tr>\n",
              "      <th>3</th>\n",
              "      <td>informatica_acessorios</td>\n",
              "      <td>6649</td>\n",
              "    </tr>\n",
              "    <tr>\n",
              "      <th>4</th>\n",
              "      <td>moveis_decoracao</td>\n",
              "      <td>6398</td>\n",
              "    </tr>\n",
              "    <tr>\n",
              "      <th>5</th>\n",
              "      <td>utilidades_domesticas</td>\n",
              "      <td>5843</td>\n",
              "    </tr>\n",
              "    <tr>\n",
              "      <th>6</th>\n",
              "      <td>relogios_presentes</td>\n",
              "      <td>5576</td>\n",
              "    </tr>\n",
              "    <tr>\n",
              "      <th>7</th>\n",
              "      <td>telefonia</td>\n",
              "      <td>4168</td>\n",
              "    </tr>\n",
              "    <tr>\n",
              "      <th>8</th>\n",
              "      <td>automotivo</td>\n",
              "      <td>3877</td>\n",
              "    </tr>\n",
              "    <tr>\n",
              "      <th>9</th>\n",
              "      <td>brinquedos</td>\n",
              "      <td>3853</td>\n",
              "    </tr>\n",
              "  </tbody>\n",
              "</table>\n",
              "</div>"
            ],
            "text/plain": [
              "    product_category_name  order_count\n",
              "0         cama_mesa_banho         9313\n",
              "1            beleza_saude         8771\n",
              "2           esporte_lazer         7669\n",
              "3  informatica_acessorios         6649\n",
              "4        moveis_decoracao         6398\n",
              "5   utilidades_domesticas         5843\n",
              "6      relogios_presentes         5576\n",
              "7               telefonia         4168\n",
              "8              automotivo         3877\n",
              "9              brinquedos         3853"
            ]
          },
          "metadata": {},
          "execution_count": 31
        }
      ]
    },
    {
      "cell_type": "code",
      "metadata": {
        "colab": {
          "base_uri": "https://localhost:8080/",
          "height": 203
        },
        "id": "fMcNPloKUL1s",
        "outputId": "a95748da-7f5b-47e8-ffdb-6cba83c56cfd"
      },
      "source": [
        "product_rated=df_rd.groupby(by='product_id',as_index=False).agg({'review_score':np.mean}).rename(columns={'review_score':'soma_rate'})\n",
        "shop_count=product_rated.set_index('product_id')\n",
        "\n",
        "top10000_avg_products_score=shop_count.sort_values('soma_rate',ascending=False).head(10000) \n",
        "#Pegando 10000 linhas para não exceder o limite de memoria ram do colab\n",
        "top10000_avg_products_score=top10000_avg_products_score.reset_index()\n",
        "\n",
        "top10000_avg_products_score.head()"
      ],
      "execution_count": 32,
      "outputs": [
        {
          "output_type": "execute_result",
          "data": {
            "text/html": [
              "<div>\n",
              "<style scoped>\n",
              "    .dataframe tbody tr th:only-of-type {\n",
              "        vertical-align: middle;\n",
              "    }\n",
              "\n",
              "    .dataframe tbody tr th {\n",
              "        vertical-align: top;\n",
              "    }\n",
              "\n",
              "    .dataframe thead th {\n",
              "        text-align: right;\n",
              "    }\n",
              "</style>\n",
              "<table border=\"1\" class=\"dataframe\">\n",
              "  <thead>\n",
              "    <tr style=\"text-align: right;\">\n",
              "      <th></th>\n",
              "      <th>product_id</th>\n",
              "      <th>soma_rate</th>\n",
              "    </tr>\n",
              "  </thead>\n",
              "  <tbody>\n",
              "    <tr>\n",
              "      <th>0</th>\n",
              "      <td>00066f42aeeb9f3007548bb9d3f33c38</td>\n",
              "      <td>5.0</td>\n",
              "    </tr>\n",
              "    <tr>\n",
              "      <th>1</th>\n",
              "      <td>6000cda32a1e7f6919ae1fcdf1d6259a</td>\n",
              "      <td>5.0</td>\n",
              "    </tr>\n",
              "    <tr>\n",
              "      <th>2</th>\n",
              "      <td>5fe490e61e7a37f2f0d1ad1771ac027d</td>\n",
              "      <td>5.0</td>\n",
              "    </tr>\n",
              "    <tr>\n",
              "      <th>3</th>\n",
              "      <td>c6ab810300ecce0784a66d36fcb5560f</td>\n",
              "      <td>5.0</td>\n",
              "    </tr>\n",
              "    <tr>\n",
              "      <th>4</th>\n",
              "      <td>c6ab3d8f4227913c4fa99e94ef84aa70</td>\n",
              "      <td>5.0</td>\n",
              "    </tr>\n",
              "  </tbody>\n",
              "</table>\n",
              "</div>"
            ],
            "text/plain": [
              "                         product_id  soma_rate\n",
              "0  00066f42aeeb9f3007548bb9d3f33c38        5.0\n",
              "1  6000cda32a1e7f6919ae1fcdf1d6259a        5.0\n",
              "2  5fe490e61e7a37f2f0d1ad1771ac027d        5.0\n",
              "3  c6ab810300ecce0784a66d36fcb5560f        5.0\n",
              "4  c6ab3d8f4227913c4fa99e94ef84aa70        5.0"
            ]
          },
          "metadata": {},
          "execution_count": 32
        }
      ]
    },
    {
      "cell_type": "code",
      "metadata": {
        "colab": {
          "base_uri": "https://localhost:8080/",
          "height": 357
        },
        "id": "CU5k4rYZZPPX",
        "outputId": "e8dfd21b-3459-4c3c-8917-97e00c10d39a"
      },
      "source": [
        "#10 categorias melhor classificados\n",
        "\n",
        "product_category_bestreviews=df_rd.groupby(by='product_category_name',as_index=False).agg({'review_score':np.sum}).rename(columns={'review_score':'review_sum'})\n",
        "shop_count=product_category_bestreviews.set_index('product_category_name')\n",
        "\n",
        "top10_products_category_review=shop_count.sort_values('review_sum',ascending=False).head(10)\n",
        "top10_products_category_review=top10_products_category_review.reset_index()\n",
        "\n",
        "top10_products_category_review"
      ],
      "execution_count": 33,
      "outputs": [
        {
          "output_type": "execute_result",
          "data": {
            "text/html": [
              "<div>\n",
              "<style scoped>\n",
              "    .dataframe tbody tr th:only-of-type {\n",
              "        vertical-align: middle;\n",
              "    }\n",
              "\n",
              "    .dataframe tbody tr th {\n",
              "        vertical-align: top;\n",
              "    }\n",
              "\n",
              "    .dataframe thead th {\n",
              "        text-align: right;\n",
              "    }\n",
              "</style>\n",
              "<table border=\"1\" class=\"dataframe\">\n",
              "  <thead>\n",
              "    <tr style=\"text-align: right;\">\n",
              "      <th></th>\n",
              "      <th>product_category_name</th>\n",
              "      <th>review_sum</th>\n",
              "    </tr>\n",
              "  </thead>\n",
              "  <tbody>\n",
              "    <tr>\n",
              "      <th>0</th>\n",
              "      <td>cama_mesa_banho</td>\n",
              "      <td>43386.0</td>\n",
              "    </tr>\n",
              "    <tr>\n",
              "      <th>1</th>\n",
              "      <td>beleza_saude</td>\n",
              "      <td>39957.0</td>\n",
              "    </tr>\n",
              "    <tr>\n",
              "      <th>2</th>\n",
              "      <td>esporte_lazer</td>\n",
              "      <td>35493.0</td>\n",
              "    </tr>\n",
              "    <tr>\n",
              "      <th>3</th>\n",
              "      <td>moveis_decoracao</td>\n",
              "      <td>32520.0</td>\n",
              "    </tr>\n",
              "    <tr>\n",
              "      <th>4</th>\n",
              "      <td>informatica_acessorios</td>\n",
              "      <td>30853.0</td>\n",
              "    </tr>\n",
              "    <tr>\n",
              "      <th>5</th>\n",
              "      <td>utilidades_domesticas</td>\n",
              "      <td>28154.0</td>\n",
              "    </tr>\n",
              "    <tr>\n",
              "      <th>6</th>\n",
              "      <td>relogios_presentes</td>\n",
              "      <td>23914.0</td>\n",
              "    </tr>\n",
              "    <tr>\n",
              "      <th>7</th>\n",
              "      <td>telefonia</td>\n",
              "      <td>17828.0</td>\n",
              "    </tr>\n",
              "    <tr>\n",
              "      <th>8</th>\n",
              "      <td>ferramentas_jardim</td>\n",
              "      <td>17501.0</td>\n",
              "    </tr>\n",
              "    <tr>\n",
              "      <th>9</th>\n",
              "      <td>automotivo</td>\n",
              "      <td>17128.0</td>\n",
              "    </tr>\n",
              "  </tbody>\n",
              "</table>\n",
              "</div>"
            ],
            "text/plain": [
              "    product_category_name  review_sum\n",
              "0         cama_mesa_banho     43386.0\n",
              "1            beleza_saude     39957.0\n",
              "2           esporte_lazer     35493.0\n",
              "3        moveis_decoracao     32520.0\n",
              "4  informatica_acessorios     30853.0\n",
              "5   utilidades_domesticas     28154.0\n",
              "6      relogios_presentes     23914.0\n",
              "7               telefonia     17828.0\n",
              "8      ferramentas_jardim     17501.0\n",
              "9              automotivo     17128.0"
            ]
          },
          "metadata": {},
          "execution_count": 33
        }
      ]
    },
    {
      "cell_type": "markdown",
      "metadata": {
        "id": "jmqOpy-jJDVM"
      },
      "source": [
        "#Matriz de similaridade"
      ]
    },
    {
      "cell_type": "code",
      "metadata": {
        "colab": {
          "base_uri": "https://localhost:8080/"
        },
        "id": "NguRssNzIGH4",
        "outputId": "a87a14a1-cde4-426c-a788-3572cda5e4d1"
      },
      "source": [
        "df_rd.shape, df_rd['product_id'].nunique(), df_rd['product_category_name'].nunique()"
      ],
      "execution_count": 34,
      "outputs": [
        {
          "output_type": "execute_result",
          "data": {
            "text/plain": [
              "((110773, 15), 32183, 73)"
            ]
          },
          "metadata": {},
          "execution_count": 34
        }
      ]
    },
    {
      "cell_type": "code",
      "metadata": {
        "colab": {
          "base_uri": "https://localhost:8080/"
        },
        "id": "Tuw8O6vcdH_3",
        "outputId": "c58e6a4f-7052-43b9-a3f6-b9e70071eed2"
      },
      "source": [
        "matriz_similaridade = df_rd[df_rd[\"product_id\"].isin(top10000_avg_products_score[\"product_id\"])] \\\n",
        "  .pivot_table(index=\"product_id\", columns=\"product_category_name\", values=\"review_score\").fillna(0)\n",
        "\n",
        "matriz_similaridade.shape"
      ],
      "execution_count": 35,
      "outputs": [
        {
          "output_type": "execute_result",
          "data": {
            "text/plain": [
              "(10000, 68)"
            ]
          },
          "metadata": {},
          "execution_count": 35
        }
      ]
    },
    {
      "cell_type": "code",
      "metadata": {
        "colab": {
          "base_uri": "https://localhost:8080/"
        },
        "id": "rv6bGPxBTu4F",
        "outputId": "09318f64-0877-4231-fc3c-e915e860121c"
      },
      "source": [
        "from sklearn.metrics.pairwise import cosine_similarity\n",
        "cos_item = cosine_similarity(matriz_similaridade)\n",
        "\n",
        "print(cos_item)\n",
        "cos_item.shape"
      ],
      "execution_count": 36,
      "outputs": [
        {
          "output_type": "stream",
          "name": "stdout",
          "text": [
            "[[1. 0. 0. ... 0. 0. 1.]\n",
            " [0. 1. 0. ... 0. 0. 0.]\n",
            " [0. 0. 1. ... 0. 0. 0.]\n",
            " ...\n",
            " [0. 0. 0. ... 1. 0. 0.]\n",
            " [0. 0. 0. ... 0. 1. 0.]\n",
            " [1. 0. 0. ... 0. 0. 1.]]\n"
          ]
        },
        {
          "output_type": "execute_result",
          "data": {
            "text/plain": [
              "(10000, 10000)"
            ]
          },
          "metadata": {},
          "execution_count": 36
        }
      ]
    },
    {
      "cell_type": "markdown",
      "metadata": {
        "id": "Bu2KD0A3RGv9"
      },
      "source": [
        "#Modelagem"
      ]
    },
    {
      "cell_type": "code",
      "metadata": {
        "id": "_WURaERYWNeJ"
      },
      "source": [
        "def recomendar(product_id):\n",
        "  print(f\"Produto observado: {product_id}.\\n\")\n",
        "  try:\n",
        "    produto_x = matriz_similaridade.index.tolist().index(product_id)\n",
        "    top10_recomendados = np.argsort(-cos_item[produto_x])[1:11]\n",
        "    print(f\"Retornando os 10 produtos mais similares de: {product_id}.\")\n",
        "    return matriz_similaridade.index[top10_recomendados].tolist()\n",
        "  except ValueError as e:\n",
        "    print(f\"{product_id}, não está incluso na matriz de recomendação. Retornando os 10 comprados\")\n",
        "    return top10_products['product_id'].tolist()"
      ],
      "execution_count": 37,
      "outputs": []
    },
    {
      "cell_type": "code",
      "metadata": {
        "colab": {
          "base_uri": "https://localhost:8080/"
        },
        "id": "CWxIkNUaWNWD",
        "outputId": "4265784a-acff-4927-f8dc-c4d108828612"
      },
      "source": [
        "product_id = \"00066f42aeeb9f3007548bb9d3f33c38\"\n",
        "produtos_similares = recomendar(product_id)\n",
        "\n",
        "produtos_similares"
      ],
      "execution_count": 38,
      "outputs": [
        {
          "output_type": "stream",
          "name": "stdout",
          "text": [
            "Produto observado: 00066f42aeeb9f3007548bb9d3f33c38.\n",
            "\n",
            "Retornando os 10 produtos mais similares de: 00066f42aeeb9f3007548bb9d3f33c38.\n"
          ]
        },
        {
          "output_type": "execute_result",
          "data": {
            "text/plain": [
              "['6a4a789c85b5704975300632152e595c',\n",
              " '69918318f27e9853c6d2a68906018a14',\n",
              " '66ef20ad226145a624f8d7b7821d8d5a',\n",
              " '65dee5bfb53947891fc47bf9a850a111',\n",
              " '65586e7ecd256d15d4360a6854d15b14',\n",
              " '64c8ed0f7f4b571f9aa5f2488999d316',\n",
              " '63acd71fee320fca91e3740e7f49f19e',\n",
              " '6292e8c74db1d4defdbd8244c1101bb6',\n",
              " '624a71194ff2a5badf71b7870f88f24f',\n",
              " '61d83b8d80a61b5fd688471b5b273b5f']"
            ]
          },
          "metadata": {},
          "execution_count": 38
        }
      ]
    },
    {
      "cell_type": "code",
      "metadata": {
        "colab": {
          "base_uri": "https://localhost:8080/"
        },
        "id": "sjcznlasCrAw",
        "outputId": "9340084b-5a5c-42ac-ec60-e6fe1ed3326d"
      },
      "source": [
        "product_id = \"f6bbece0c618d7313bbaf6fc919149b8\"\n",
        "produtos_similares = recomendar(product_id)\n",
        "\n",
        "produtos_similares"
      ],
      "execution_count": 39,
      "outputs": [
        {
          "output_type": "stream",
          "name": "stdout",
          "text": [
            "Produto observado: f6bbece0c618d7313bbaf6fc919149b8.\n",
            "\n",
            "f6bbece0c618d7313bbaf6fc919149b8, não está incluso na matriz de recomendação. Retornando os 10 comprados\n"
          ]
        },
        {
          "output_type": "execute_result",
          "data": {
            "text/plain": [
              "['99a4788cb24856965c36a24e339b6058',\n",
              " 'aca2eb7d00ea1a7b8ebd4e68314663af',\n",
              " '422879e10f46682990de24d770e7f83d',\n",
              " 'd1c427060a0f73f6b889a5c7c61f2ac4',\n",
              " '389d119b48cf3043d311335e499d9c6b',\n",
              " '53b36df67ebb7c41585e8d54d6772e08',\n",
              " '368c6c730842d78016ad823897a372db',\n",
              " '53759a2ecddad2bb87a079a1f1519f73',\n",
              " '154e7e31ebfa092203795c972e5804a6',\n",
              " '2b4609f8948be18874494203496bc318']"
            ]
          },
          "metadata": {},
          "execution_count": 39
        }
      ]
    },
    {
      "cell_type": "code",
      "metadata": {
        "colab": {
          "base_uri": "https://localhost:8080/"
        },
        "id": "4nGcvlOOCv3F",
        "outputId": "8a335669-21d4-4cc5-8d3a-24be8c469ece"
      },
      "source": [
        "product_id = \"item_que_não_existe\"\n",
        "produtos_similares = recomendar(product_id)\n",
        "\n",
        "produtos_similares"
      ],
      "execution_count": 40,
      "outputs": [
        {
          "output_type": "stream",
          "name": "stdout",
          "text": [
            "Produto observado: item_que_não_existe.\n",
            "\n",
            "item_que_não_existe, não está incluso na matriz de recomendação. Retornando os 10 comprados\n"
          ]
        },
        {
          "output_type": "execute_result",
          "data": {
            "text/plain": [
              "['99a4788cb24856965c36a24e339b6058',\n",
              " 'aca2eb7d00ea1a7b8ebd4e68314663af',\n",
              " '422879e10f46682990de24d770e7f83d',\n",
              " 'd1c427060a0f73f6b889a5c7c61f2ac4',\n",
              " '389d119b48cf3043d311335e499d9c6b',\n",
              " '53b36df67ebb7c41585e8d54d6772e08',\n",
              " '368c6c730842d78016ad823897a372db',\n",
              " '53759a2ecddad2bb87a079a1f1519f73',\n",
              " '154e7e31ebfa092203795c972e5804a6',\n",
              " '2b4609f8948be18874494203496bc318']"
            ]
          },
          "metadata": {},
          "execution_count": 40
        }
      ]
    }
  ]
}